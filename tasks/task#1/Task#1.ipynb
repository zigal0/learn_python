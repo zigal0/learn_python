{
 "cells": [
  {
   "cell_type": "code",
   "execution_count": 1,
   "id": "2e762431",
   "metadata": {},
   "outputs": [
    {
     "name": "stdout",
     "output_type": "stream",
     "text": [
      "YES\n"
     ]
    }
   ],
   "source": [
    "def task_01_func(year):\n",
    "    if year % 4 == 0 and year % 100 != 0 or year % 400 == 0:\n",
    "        print('YES')\n",
    "    else:\n",
    "        print('NO')\n",
    "year = 2020\n",
    "task_01_func(year)"
   ]
  },
  {
   "cell_type": "code",
   "execution_count": 2,
   "id": "6c377424",
   "metadata": {},
   "outputs": [
    {
     "name": "stdout",
     "output_type": "stream",
     "text": [
      "1\n"
     ]
    }
   ],
   "source": [
    "# def task_02_func(number):\n",
    "#     print(len(str(123)))\n",
    "def task_02_func(number):\n",
    "    count = 0\n",
    "    while number > 0:\n",
    "        number = number // 10\n",
    "        count += 1\n",
    "    print(count)\n",
    "number = 5\n",
    "task_02_func(number)"
   ]
  },
  {
   "cell_type": "code",
   "execution_count": 3,
   "id": "10e3a353",
   "metadata": {},
   "outputs": [
    {
     "name": "stdout",
     "output_type": "stream",
     "text": [
      "153\n"
     ]
    }
   ],
   "source": [
    "# import math\n",
    "# def task_03_func(n):\n",
    "#     result = 0;\n",
    "#     for i in range(1, n+1):\n",
    "#         result += math.factorial(i)\n",
    "#     print(result)\n",
    "    \n",
    "def task_03_func(n):\n",
    "    result = 1\n",
    "    curr_factorial = 1\n",
    "    for i in range(2, n + 1):\n",
    "        curr_factorial *= i\n",
    "        result += curr_factorial\n",
    "    print(result)\n",
    "task_03_func(number)"
   ]
  },
  {
   "cell_type": "code",
   "execution_count": 4,
   "id": "62f5e703",
   "metadata": {},
   "outputs": [
    {
     "name": "stdout",
     "output_type": "stream",
     "text": [
      "NO\n"
     ]
    }
   ],
   "source": [
    "# def task_04_func(s):\n",
    "#     s = s.lower()\n",
    "#     if (s == s[::-1]):\n",
    "#         print('YES')\n",
    "#     else:\n",
    "#         print('NO')\n",
    "def task_04_func(s):\n",
    "    s = s.lower()\n",
    "    i = 0;\n",
    "    while i < len(s) // 2:\n",
    "        if (s[i] != s[len(s) - i - 1]):\n",
    "            print('NO')\n",
    "            return\n",
    "        i += 1\n",
    "    print('YES')\n",
    "s = \"Medam\"\n",
    "task_04_func(s)"
   ]
  },
  {
   "cell_type": "code",
   "execution_count": 5,
   "id": "9c9845dd",
   "metadata": {},
   "outputs": [
    {
     "data": {
      "text/plain": [
       "{'I': 5, 'love': 3, 'this': 2, 'wonderful': 1, 'world': 1, 'so': 1, 'much': 1}"
      ]
     },
     "execution_count": 5,
     "metadata": {},
     "output_type": "execute_result"
    }
   ],
   "source": [
    "# def task_05_func(text):\n",
    "#     subText = text.split(' ')\n",
    "#     result = {}\n",
    "#     mySet = set(subText)\n",
    "#     for word in mySet:\n",
    "#         result[word] = subText.count(word)\n",
    "#     return result\n",
    "def task_05_func(text):\n",
    "    result = {}\n",
    "    for key in text.split():\n",
    "        result[key] = result.setdefault(key, 0) +1\n",
    "    return result\n",
    "text = 'I love this wonderful world so much love love this I I I I'\n",
    "wordMap = task_05_func(text)\n",
    "wordMap"
   ]
  },
  {
   "cell_type": "code",
   "execution_count": 6,
   "id": "4e488e99",
   "metadata": {},
   "outputs": [
    {
     "data": {
      "text/plain": [
       "(3, 14)"
      ]
     },
     "execution_count": 6,
     "metadata": {},
     "output_type": "execute_result"
    }
   ],
   "source": [
    "# def task_06_func(input_str, input_char):\n",
    "#     first = input_str.find(input_char)\n",
    "#     last = input_str.rfind(input_char)\n",
    "#     if first == -1:\n",
    "#         return (None, None)\n",
    "#     elif first == last:\n",
    "#         return (first, None)\n",
    "#     else:\n",
    "#         return (first, last)\n",
    "def task_06_func(input_str, input_char):\n",
    "    first = None\n",
    "    last = None\n",
    "    for  i in range(0, len(input_str)):\n",
    "        if input_str[i] == input_char:\n",
    "            if first is None:\n",
    "                first = i\n",
    "            else:\n",
    "                last = i\n",
    "    return (first, last)\n",
    "task_06_func('lolkekchebureck', 'k')\n",
    "    "
   ]
  },
  {
   "cell_type": "code",
   "execution_count": 7,
   "id": "c231b93a",
   "metadata": {},
   "outputs": [
    {
     "data": {
      "text/plain": [
       "[529, 144, 49, 49, 49, 1]"
      ]
     },
     "execution_count": 7,
     "metadata": {},
     "output_type": "execute_result"
    }
   ],
   "source": [
    "def task_07_func(lst):\n",
    "    f = filter(lambda x: x > 0, lst)\n",
    "    m = map(lambda x: x ** 2, list(f))\n",
    "    sorted_lst = sorted(list(m), reverse = True)\n",
    "    return sorted_lst\n",
    "lst = [1, -5, 23, 7, -20, 12, 7, 7]\n",
    "task_07_func(lst)"
   ]
  },
  {
   "cell_type": "code",
   "execution_count": 8,
   "id": "b7e2682b",
   "metadata": {},
   "outputs": [
    {
     "name": "stdout",
     "output_type": "stream",
     "text": [
      "(5, 10, 9)\n",
      "(4, 7, 5)\n",
      "(1, 2, 6)\n"
     ]
    }
   ],
   "source": [
    "def task_08_func(lst, index):\n",
    "    if len(lst) == 0 or index >= len(lst[0]):\n",
    "        print('Wrong data')\n",
    "        return None\n",
    "    lst = sorted(lst, key = lambda x: x[index], reverse = True)\n",
    "    i = 0\n",
    "    while i < len(lst):\n",
    "        yield lst[i]\n",
    "        i += 1\n",
    "lst = [(1, 2, 6), (5, 10, 9), (4, 7, 5)]\n",
    "task_08_func(lst, 1)\n",
    "for e in task_08_func(lst, 1):\n",
    "    print(e)"
   ]
  },
  {
   "cell_type": "code",
   "execution_count": 24,
   "id": "02cd8500",
   "metadata": {},
   "outputs": [
    {
     "name": "stdout",
     "output_type": "stream",
     "text": [
      "[1]\n",
      "[1, 1]\n",
      "[1, 2, 1]\n",
      "[1, 3, 3, 1]\n",
      "[1, 4, 6, 4, 1]\n"
     ]
    }
   ],
   "source": [
    "# def task_09_func(n):\n",
    "#     row = [1]\n",
    "#     for i in range(n):\n",
    "#         print(row)\n",
    "#         row = [sum(x) for x in zip([0]+row, row+[0])]\n",
    "def task_09_func(n):\n",
    "    def next_row(row):\n",
    "        row = [1] + row\n",
    "        for i in range(1, len(row)-1):\n",
    "            row[i] += row[i+1]\n",
    "        return row\n",
    "    row = []\n",
    "\n",
    "    for i in range(n):\n",
    "        row = next_row(row)\n",
    "        print(row)\n",
    "\n",
    "res = task_09_func(5); \n"
   ]
  },
  {
   "cell_type": "code",
   "execution_count": 1,
   "id": "34f80a24",
   "metadata": {},
   "outputs": [
    {
     "name": "stdout",
     "output_type": "stream",
     "text": [
      "Текущая деректория: C:\\Users\\serge\\Projects\\python\\Training\n",
      "Текущая деректория: D:\\zigal0\\6sem\\test\n"
     ]
    },
    {
     "data": {
      "text/plain": [
       "(6, 0)"
      ]
     },
     "execution_count": 1,
     "metadata": {},
     "output_type": "execute_result"
    }
   ],
   "source": [
    "import os\n",
    "from pathlib import Path\n",
    "def task_10_func(dir_path, prev_extension, next_extension):\n",
    "    print(\"Текущая деректория:\", os.getcwd())\n",
    "    os.chdir(dir_path)\n",
    "    print(\"Текущая деректория:\", os.getcwd())\n",
    "    list_files =  os.listdir()\n",
    "    numberOfFiles = 0\n",
    "    numberOfChangedFiles = 0;\n",
    "    for item in list_files:\n",
    "        if os.path.isfile(item):\n",
    "            numberOfFiles += 1\n",
    "        if item.endswith(\".\" + prev_extension):\n",
    "            numberOfChangedFiles += 1\n",
    "            base = os.path.splitext(item)[0]\n",
    "            os.rename(item, base + \".\" + next_extension)\n",
    "    return (numberOfFiles, numberOfChangedFiles)\n",
    "path = \"D:/zigal0/6sem/test\"\n",
    "task_10_func(path, 'doc', 'txt')"
   ]
  },
  {
   "cell_type": "code",
   "execution_count": 87,
   "id": "b0695a84",
   "metadata": {},
   "outputs": [
    {
     "data": {
      "text/plain": [
       "{4}"
      ]
     },
     "execution_count": 87,
     "metadata": {},
     "output_type": "execute_result"
    }
   ],
   "source": [
    "def task_11_func(first_list, second_list):\n",
    "    return set(first_list) - set(second_list)\n",
    "task_11_func([1, 2, 3, 4], [1, 2, 3, 5])"
   ]
  },
  {
   "cell_type": "code",
   "execution_count": 96,
   "id": "6c470013",
   "metadata": {},
   "outputs": [],
   "source": [
    "def task_12_func(input_path, output_path):\n",
    "    min_value = None\n",
    "    with open(input_path) as fin:\n",
    "        for cur_value in fin.readlines():\n",
    "            if min_value == None or min_value > float(cur_value):\n",
    "                min_value = float(cur_value)\n",
    "    \n",
    "    with open(input_path) as fin:\n",
    "        cur_row = 0\n",
    "        with open(output_path, 'w') as fout:\n",
    "            for cur_value in fin.readlines():\n",
    "                if cur_row % 2 == 0:\n",
    "                    fout.write('{:.5f}'.format(float(cur_value) + min_value) + '\\n')\n",
    "                cur_row += 1\n",
    "task_12_func(\"D:/zigal0/6sem/test/input.txt\", \"D:/zigal0/6sem/test/output.txt\")"
   ]
  },
  {
   "cell_type": "code",
   "execution_count": 4,
   "id": "49e9c9cb",
   "metadata": {},
   "outputs": [
    {
     "name": "stdout",
     "output_type": "stream",
     "text": [
      "1 1 2 3 5 "
     ]
    }
   ],
   "source": [
    "def task_13_func(n):\n",
    "    num1 = num2 = 1\n",
    "    if n == -1:\n",
    "        while True:\n",
    "            yield num1\n",
    "            tmp = num2\n",
    "            num2 = num2 + num1\n",
    "            num1 = tmp\n",
    "    elif n > 0:\n",
    "        for i in range(n):\n",
    "            yield num1\n",
    "            tmp = num2\n",
    "            num2 = num2 + num1\n",
    "            num1 = tmp\n",
    "\n",
    "for e in task_13_func(5):\n",
    "    print(e, end=' ')"
   ]
  },
  {
   "cell_type": "code",
   "execution_count": 116,
   "id": "66fe02a6",
   "metadata": {},
   "outputs": [
    {
     "name": "stdout",
     "output_type": "stream",
     "text": [
      "['__abs__', '__add__', '__and__']\n",
      "['__setattr__', '__sizeof__', '__str__', '__subclasshook__']\n"
     ]
    },
    {
     "data": {
      "text/plain": [
       "['count', 'index']"
      ]
     },
     "execution_count": 116,
     "metadata": {},
     "output_type": "execute_result"
    }
   ],
   "source": [
    "def task_14_func(n):\n",
    "    if type(n) == int:\n",
    "        return list(filter(lambda x: x.startswith('__a') and x.endswith('__'), dir(n)))       \n",
    "    elif type(n) == str:\n",
    "        return list(filter(lambda x: x.startswith('__s') and x.endswith('__'), dir(n)))  \n",
    "    else:\n",
    "        return list(filter(lambda x: not (x.startswith('__') and x.endswith('__')), dir(n)))\n",
    "print(task_14_func(123))\n",
    "print(task_14_func('lol'))\n",
    "task_14_func((1, 2))"
   ]
  },
  {
   "cell_type": "code",
   "execution_count": 32,
   "id": "8cb86fa3",
   "metadata": {},
   "outputs": [
    {
     "data": {
      "text/plain": [
       "['lo76ke7', 'cheburec7', '']"
      ]
     },
     "execution_count": 32,
     "metadata": {},
     "output_type": "execute_result"
    }
   ],
   "source": [
    "# def task_15_func(n):\n",
    "#     i = 0\n",
    "#     lst = []\n",
    "#     cur = ''\n",
    "#     for i in range(len(n)):\n",
    "#         cur = n[i]\n",
    "#         if cur.isupper():\n",
    "#             cur = str(ord(n[i]))\n",
    "#         lst.append(cur)\n",
    "#     res = ''.join(lst)\n",
    "#     print(res)\n",
    "#     min_value = None\n",
    "#     for i in range(len(res)):\n",
    "#         if res[i].isnumeric():\n",
    "#             if (min_value is None or min_value > int(res[i])):\n",
    "#                 min_value = int(res[i])\n",
    "#     return res.split(str(min_value))\n",
    "def task_15_func(n):\n",
    "    m = map(lambda x: str(ord(x)) if x.isupper() else x, n)\n",
    "    res = ''.join(list(m))\n",
    "    min_symbol = min([x for x in res])\n",
    "    return res.split(str(min_symbol))\n",
    "task_15_func('loLkeKcheburecK')"
   ]
  },
  {
   "cell_type": "code",
   "execution_count": 71,
   "id": "8d02f60a",
   "metadata": {},
   "outputs": [
    {
     "name": "stdout",
     "output_type": "stream",
     "text": [
      "['+7 (916) 7698275', '89167698275', '+7(916)7698275', '8(916)125-4171', '+6 495 926-93-47']\n"
     ]
    }
   ],
   "source": [
    "import re\n",
    "def task_16_func(n):\n",
    "    phone_pattern = re.compile('((\\\\+[0-9]{1}|8) ?(\\\\(?[1-9][0-9]{2}\\\\)?[-. ]*)([1-9][0-9]{2})[-. ]*(\\\\d{2})[-. ]*(\\\\d{2}))')\n",
    "    return [x[0] for x in phone_pattern.findall(n)]\n",
    "test = '+7 (916) 7698275 89167698275  +7(916)7698275 8(916)125-4171\", \"+6 495 926-93-47 ext.1846\", \"2 800 250 0890'\n",
    "lst = task_16_func(test)\n",
    "print(lst)"
   ]
  },
  {
   "cell_type": "code",
   "execution_count": 89,
   "id": "6b7446bb",
   "metadata": {},
   "outputs": [
    {
     "name": "stdout",
     "output_type": "stream",
     "text": [
      "26\n",
      "15\n",
      "9\n",
      "24\n"
     ]
    }
   ],
   "source": [
    "def task_17_func(n):\n",
    "    def rec_sum(cur_sum, n):\n",
    "        if  len(n) == 3:\n",
    "            if (n[1] is None and n[2] is None):\n",
    "                print(cur_sum + n[0])\n",
    "            else:\n",
    "                if (n[1] is not None):\n",
    "                    rec_sum(cur_sum + n[0], n[1])\n",
    "                if (n[2] is not None):\n",
    "                    rec_sum(cur_sum + n[0], n[2])\n",
    "    rec_sum(n[0], n[1])\n",
    "    rec_sum(n[0], n[2])      \n",
    "for_test = (5, (9, (12, None, None), (1, None, None)), (0, (4, None, None), (19, None, None)))\n",
    "task_17_func(for_test)"
   ]
  },
  {
   "cell_type": "code",
   "execution_count": null,
   "id": "e6ce9b59",
   "metadata": {},
   "outputs": [],
   "source": []
  }
 ],
 "metadata": {
  "kernelspec": {
   "display_name": "Python 3 (ipykernel)",
   "language": "python",
   "name": "python3"
  },
  "language_info": {
   "codemirror_mode": {
    "name": "ipython",
    "version": 3
   },
   "file_extension": ".py",
   "mimetype": "text/x-python",
   "name": "python",
   "nbconvert_exporter": "python",
   "pygments_lexer": "ipython3",
   "version": "3.9.7"
  }
 },
 "nbformat": 4,
 "nbformat_minor": 5
}
